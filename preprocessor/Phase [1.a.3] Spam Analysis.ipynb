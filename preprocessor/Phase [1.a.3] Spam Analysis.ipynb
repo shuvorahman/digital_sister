{
 "cells": [
  {
   "cell_type": "markdown",
   "metadata": {},
   "source": [
    "# Spam Analysis"
   ]
  },
  {
   "cell_type": "markdown",
   "metadata": {
    "collapsed": true
   },
   "source": [
    "This notebook will contain the codes and documentations for spam analysis. A report is generated on the analysis in the dropbox paper https://paper.dropbox.com/doc/Spam-Analysis-of-Maya-questions-NubDXwEKR6NDOBghYGgQ4."
   ]
  },
  {
   "cell_type": "markdown",
   "metadata": {},
   "source": [
    "First we will connect to our database."
   ]
  },
  {
   "cell_type": "code",
   "execution_count": 1,
   "metadata": {
    "collapsed": true
   },
   "outputs": [],
   "source": [
    "from database import Database\n",
    "\n",
    "database = Database(\n",
    "    '<host name>',\n",
    "    '<database name>',\n",
    "    '<user name>',\n",
    "    '<password>',\n",
    "    'utf8mb4'\n",
    ")"
   ]
  },
  {
   "cell_type": "markdown",
   "metadata": {},
   "source": [
    "### Spam by Source and User type (Registered & non-registered)"
   ]
  },
  {
   "cell_type": "code",
   "execution_count": null,
   "metadata": {
    "collapsed": false
   },
   "outputs": [],
   "source": [
    "import matplotlib.pyplot as plt\n",
    "plt.style.use('ggplot')\n",
    "import pandas as pd\n",
    "\n",
    "if connection:\n",
    "    try:\n",
    "        with connection.cursor() as cursor:\n",
    "            query = \"select count(*) as count, source from questions where status='spam' GROUP BY source,user_id is not null\"\n",
    "            cursor.execute(query)\n",
    "            data = cursor.fetchall()\n",
    "            df2 = pd.DataFrame(data)\n",
    "            df2.plot.bar()\n",
    "            plt.show()\n",
    "            print data\n",
    "    finally:\n",
    "        connection.close()"
   ]
  },
  {
   "cell_type": "markdown",
   "metadata": {},
   "source": [
    "### Create Spam Type  and Spam By Repeat Tables"
   ]
  },
  {
   "cell_type": "code",
   "execution_count": 4,
   "metadata": {
    "collapsed": false
   },
   "outputs": [],
   "source": [
    "def create_spam_type_table(cursor, connection):\n",
    "    create_schema_sql = \"CREATE TABLE spam_type(id int(11) unsigned NOT NULL AUTO_INCREMENT,question_id int(10) unsigned NOT NULL,type enum('repeat','abusive','random','greeting','irrelevant','test') DEFAULT NULL,PRIMARY KEY (id),KEY question_id (question_id),CONSTRAINT spam_type_ibfk_1 FOREIGN KEY (question_id) REFERENCES questions (id)) ENGINE=InnoDB DEFAULT CHARSET=utf8\"\n",
    "    cursor.execute(create_schema_sql)\n",
    "    connection.commit()\n",
    "\n",
    "def create_spam_repeat_table(cursor, connection):\n",
    "    create_schema_sql = \"CREATE TABLE spam_by_repeat(id int(11) unsigned NOT NULL AUTO_INCREMENT,question_id int(10) unsigned NOT NULL,parent_id int(10) unsigned NOT NULL,is_same_user tinyint(1) NOT NULL,time_dif int(11) unsigned NOT NULL,PRIMARY KEY (id),KEY question_id (question_id),KEY parent_id (parent_id),CONSTRAINT spam_by_repeat_ibfk_1 FOREIGN KEY (question_id) REFERENCES questions (id),CONSTRAINT spam_by_repeat_ibfk_2 FOREIGN KEY (parent_id) REFERENCES questions (id)) ENGINE=InnoDB DEFAULT CHARSET=utf8\"\n",
    "    cursor.execute(create_schema_sql)\n",
    "    connection.commit()"
   ]
  },
  {
   "cell_type": "markdown",
   "metadata": {
    "collapsed": true
   },
   "source": [
    "### Repeated Questions Count"
   ]
  },
  {
   "cell_type": "markdown",
   "metadata": {},
   "source": [
    "### Check for Greetings"
   ]
  },
  {
   "cell_type": "code",
   "execution_count": null,
   "metadata": {
    "collapsed": true
   },
   "outputs": [],
   "source": [
    "from pyxdameraulevenshtein import damerau_levenshtein_distance as dl_distance\n",
    "\n",
    "def check_for_greeting(sentence):\n",
    "    greeting_word = ['hi', 'hey', 'hello', 'bye', 'thank', 'কেমন'.decode('utf-8')]\n",
    "    if len(sentence.split(' ')) < 10:\n",
    "        # greetings\n",
    "        for words in sentence.split(' '):\n",
    "            for i in greeting_word:\n",
    "                if dl_distance(i, words) <= 1:\n",
    "                    sql = \"INSERT INTO spam_type(question_id, type) VALUES('\" + str(record['id']) + \"','greeting')\"\n",
    "                    cursor.execute(sql)\n",
    "                    connection.commit()\n",
    "                    return True\n",
    "    return False"
   ]
  },
  {
   "cell_type": "markdown",
   "metadata": {},
   "source": [
    "### Check for Testing Questions"
   ]
  },
  {
   "cell_type": "code",
   "execution_count": null,
   "metadata": {
    "collapsed": true
   },
   "outputs": [],
   "source": [
    "def check_for_test(sentence):\n",
    "    testing_word = ['test', 'check', 'testing', 'checking']\n",
    "    if len(sentence.split(' ')) < 10:\n",
    "        # greetings\n",
    "        for words in sentence.split(' '):\n",
    "            for i in testing_word:\n",
    "                if dl_distance(i, words) <= 1 or i in sentence:\n",
    "                    sql = \"INSERT INTO spam_type(question_id, type) VALUES('\" + str(record['id']) + \"','test')\"\n",
    "                    cursor.execute(sql)\n",
    "                    connection.commit()\n",
    "                    return True\n",
    "\n",
    "    return False"
   ]
  },
  {
   "cell_type": "markdown",
   "metadata": {},
   "source": [
    "### Check for Random Characters"
   ]
  },
  {
   "cell_type": "code",
   "execution_count": null,
   "metadata": {
    "collapsed": true
   },
   "outputs": [],
   "source": [
    "def mark_as_random(record):\n",
    "    sql = \"INSERT INTO spam_type(question_id, type) VALUES('\" + str(record['id']) + \"','random')\"\n",
    "    cursor.execute(sql)\n",
    "    connection.commit()\n"
   ]
  },
  {
   "cell_type": "markdown",
   "metadata": {},
   "source": [
    "### Check for Irrelevant Questions"
   ]
  },
  {
   "cell_type": "code",
   "execution_count": null,
   "metadata": {
    "collapsed": true
   },
   "outputs": [],
   "source": [
    "def check_for_irrelevant(sentence):\n",
    "    irrelevant_word = ['voice']\n",
    "    if len(sentence.split(' ')) < 10:\n",
    "        # greetings\n",
    "        for words in sentence.split(' '):\n",
    "            for i in irrelevant_word:\n",
    "                if dl_distance(i, words) <= 1:\n",
    "                    sql = \"INSERT INTO spam_type(question_id, type) VALUES('\" + str(record['id']) + \"','irrelevant')\"\n",
    "                    cursor.execute(sql)\n",
    "                    connection.commit()\n",
    "                    return True\n",
    "    return False"
   ]
  },
  {
   "cell_type": "markdown",
   "metadata": {},
   "source": [
    "### Check for Abusive Questions"
   ]
  },
  {
   "cell_type": "code",
   "execution_count": null,
   "metadata": {
    "collapsed": true
   },
   "outputs": [],
   "source": [
    "def check_for_abusive(sentence):\n",
    "    abusive_word = ['sex','সেক্স'.decode('utf-8'),'যৌন'.decode('utf-8'),'দুধ'.decode('utf-8'),'চুদ'.decode('utf-8'), 'লিঙ্গ'.decode('utf-8')]\n",
    "    # greetings\n",
    "    for words in sentence.split(' '):\n",
    "        for i in abusive_word:\n",
    "            if dl_distance(i, words) <= 1 or i in sentence:\n",
    "                sql = \"INSERT INTO spam_type(question_id, type) VALUES('\" + str(record['id']) + \"','abusive')\"\n",
    "                cursor.execute(sql)\n",
    "                connection.commit()\n",
    "                return True\n",
    "    return False"
   ]
  },
  {
   "cell_type": "markdown",
   "metadata": {},
   "source": [
    "### Check for Repeated Questions"
   ]
  },
  {
   "cell_type": "code",
   "execution_count": null,
   "metadata": {
    "collapsed": true
   },
   "outputs": [],
   "source": [
    "def check_for_repeat(record):\n",
    "    sql = \"SELECT id, email, created_at FROM questions WHERE id < \" + str(record['id']) + \" and body='\" + record['body'] + \"'\"\n",
    "    cursor.execute(sql)\n",
    "    result = cursor.fetchall()\n",
    "    if result:\n",
    "        match = 0\n",
    "        for i in result:\n",
    "            if i['id'] > match:\n",
    "                match = i['id']\n",
    "                data = i\n",
    "\n",
    "        sql = \"INSERT INTO spam_type(question_id, type) VALUES('\" + str(record['id']) + \"','repeat')\"\n",
    "        cursor.execute(sql)\n",
    "        connection.commit()\n",
    "        if (data['email'] == record['email']):\n",
    "            sql = \"INSERT INTO spam_by_repeat(question_id, parent_id, is_same_user, time_dif) VALUES('\" + str(record['id']) + \"','\" + str(data['id']) + \"','1','\" + str(abs((record['created_at'] - data['created_at']).total_seconds())) + \"')\"\n",
    "        else:\n",
    "            sql = \"INSERT INTO spam_by_repeat(question_id, parent_id, is_same_user, time_dif) VALUES('\" + str(record['id']) + \"','\" + str(data['id']) + \"','0','\" + str(abs((record['created_at'] - data['created_at']).total_seconds())) + \"')\"\n",
    "        cursor.execute(sql)\n",
    "        connection.commit()\n",
    "        return True\n",
    "    return False"
   ]
  },
  {
   "cell_type": "markdown",
   "metadata": {},
   "source": [
    "### Spam Analysis by Type"
   ]
  },
  {
   "cell_type": "code",
   "execution_count": 5,
   "metadata": {
    "collapsed": false
   },
   "outputs": [],
   "source": [
    "connection = database.connect_with_pymysql()\n",
    "if connection:\n",
    "    try:\n",
    "        with connection.cursor() as cursor:\n",
    "            create_spam_type_table(cursor, connection)\n",
    "            create_spam_repeat_table(cursor, connection)\n",
    "            sql = \"SELECT id, body, email, source, created_at FROM questions WHERE status='spam'\"\n",
    "            cursor.execute(sql)\n",
    "            data = cursor.fetchall()\n",
    "            for record in data:\n",
    "                if record['body']:\n",
    "                    # no vowel\n",
    "                    if check_for_greeting(record['body']):\n",
    "                        continue\n",
    "                    elif check_for_test(record['body']):\n",
    "                        continue\n",
    "                    elif check_for_irrelevant(record['body']):\n",
    "                        continue\n",
    "                    elif len(record['body'].split(' ')) <= 3:\n",
    "                        mark_as_random(record)\n",
    "                        continue\n",
    "                    elif check_for_repeat(record):\n",
    "                        continue\n",
    "                    elif check_for_abusive(record['body']):\n",
    "                        continue\n",
    "                    sql = \"INSERT INTO spam_type(question_id) VALUES('\" + str(record['id']) + \"')\"\n",
    "                    cursor.execute(sql)\n",
    "                    connection.commit()\n",
    "                else:\n",
    "                    # random meaningless characters or blank message\n",
    "                    mark_as_random(record)\n",
    "    finally:\n",
    "        connection.close()\n"
   ]
  },
  {
   "cell_type": "markdown",
   "metadata": {
    "collapsed": true
   },
   "source": [
    "### Repeated questions by Time and User"
   ]
  },
  {
   "cell_type": "code",
   "execution_count": null,
   "metadata": {
    "collapsed": true
   },
   "outputs": [],
   "source": [
    "import matplotlib.pyplot as plt\n",
    "import pandas as pd\n",
    "import numpy as np\n",
    "import sys\n",
    "timeline = []\n",
    "connection = database.connect_with_pymysql()\n",
    "if connection:\n",
    "    try:\n",
    "        with connection.cursor() as cursor:\n",
    "            sql = \"SELECT time_dif FROM spam_by_repeat where is_same_user=0\"\n",
    "            cursor.execute(sql)\n",
    "            result = cursor.fetchall()\n",
    "    finally:\n",
    "        connection.close()\n",
    "for i in result:\n",
    "    timeline.append(i['time_dif']/60)\n",
    "plt.style.use('ggplot')\n",
    "ranges = [0, 2, 60, 1440, 10080, sys.maxint]\n",
    "col = ['<2min', '2-60min', '1-24hr', '1-7day', '>1week']\n",
    "\n",
    "val = np.zeros(5)\n",
    "\n",
    "for i in range(len(ranges)-1):\n",
    "    for j in timeline:\n",
    "        if ranges[i] <= j < ranges[i+1]:\n",
    "            val[i] += 1\n",
    "df2 = pd.DataFrame(np.array(val), col, columns=['Count of repeated questions by time by different user'])\n",
    "ax = df2.plot.bar()\n",
    "for p in ax.patches:\n",
    "    b=p.get_bbox()\n",
    "    ax.annotate(\"{}\".format(int(b.y1 + b.y0)), ((b.x0 + b.x1)/2 - 0.1, b.y1))\n",
    "plt.show()\n"
   ]
  }
 ],
 "metadata": {
  "kernelspec": {
   "display_name": "Python 2",
   "language": "python",
   "name": "python2"
  },
  "language_info": {
   "codemirror_mode": {
    "name": "ipython",
    "version": 2
   },
   "file_extension": ".py",
   "mimetype": "text/x-python",
   "name": "python",
   "nbconvert_exporter": "python",
   "pygments_lexer": "ipython2",
   "version": "2.7.12"
  }
 },
 "nbformat": 4,
 "nbformat_minor": 0
}
