{
 "cells": [
  {
   "cell_type": "markdown",
   "metadata": {},
   "source": [
    "# Location Analysis"
   ]
  },
  {
   "cell_type": "markdown",
   "metadata": {
    "collapsed": true
   },
   "source": [
    "We dont have IP linked with our Users. So we will link UserID with IP and then analyse the IPs to get some understanding on the Locations from where our users are mostly connected and analyse the locations for further improvement on user experience."
   ]
  },
  {
   "cell_type": "markdown",
   "metadata": {
    "collapsed": true
   },
   "source": [
    "First we will connect to our database."
   ]
  },
  {
   "cell_type": "code",
   "execution_count": null,
   "metadata": {
    "collapsed": true
   },
   "outputs": [],
   "source": [
    "from database import Database\n",
    "\n",
    "database = Database(\n",
    "    '<host name>',\n",
    "    '<database name>',\n",
    "    '<user name>',\n",
    "    '<password>',\n",
    "    'utf8mb4'\n",
    ")\n",
    "connection = database.connect_with_pymysql()"
   ]
  },
  {
   "cell_type": "markdown",
   "metadata": {},
   "source": [
    "Then we create a relational schema between users and IPs in our database. Then we will insert data in the table."
   ]
  },
  {
   "cell_type": "code",
   "execution_count": null,
   "metadata": {
    "collapsed": false
   },
   "outputs": [],
   "source": [
    "if connection:\n",
    "    try:\n",
    "        with connection.cursor() as cursor:\n",
    "            create_schema_sql = \"CREATE TABLE logs_user(user_id int(11) DEFAULT NULL, IP varchar(255) DEFAULT NULL) ENGINE=InnoDB DEFAULT CHARSET=utf8\"\n",
    "            cursor.execute(create_schema_sql)\n",
    "            connection.commit()\n",
    "\n",
    "            sql = \"SELECT logs.ip, users.id FROM logs, users WHERE logs.email=users.email\"\n",
    "            cursor.execute(sql)\n",
    "            data = cursor.fetchall()\n",
    "\n",
    "            for record in data:\n",
    "                insert = \"INSERT INTO logs_user(user_id, IP) VALUES('\"+str(record['id']) +\"','\"+str(record['ip'])+\"')\"\n",
    "                cursor.execute(insert)\n",
    "                connection.commit()\n",
    "                \n",
    "    finally:\n",
    "        connection.close()"
   ]
  },
  {
   "cell_type": "markdown",
   "metadata": {},
   "source": [
    "Now we will create another schema that will use a geo-location API to get the location from the IPs. We have a schema called ips and we will use the ip and forwarded coloumn to get distinct ips. To store the records we will create a location schema. "
   ]
  },
  {
   "cell_type": "code",
   "execution_count": null,
   "metadata": {
    "collapsed": false
   },
   "outputs": [],
   "source": [
    "if connection:\n",
    "    try:\n",
    "        with connection.cursor() as cursor:\n",
    "            create_schema_sql = \"CREATE TABLE location(IP varchar(20) NOT NULL DEFAULT '', longitude varchar(20) DEFAULT NULL, latitude varchar(20) DEFAULT NULL, country varchar(50) DEFAULT NULL, region varchar(70) DEFAULT NULL, city varchar(40) DEFAULT NULL, zip_code varchar(20) DEFAULT NULL, PRIMARY KEY (IP)) ENGINE=InnoDB DEFAULT CHARSET=utf8\"\n",
    "            cursor.execute(create_schema_sql)\n",
    "            connection.commit()\n",
    "\n",
    "            sql = \"SELECT ip, forwarded FROM ips\"\n",
    "            cursor.execute(sql)\n",
    "            data = cursor.fetchall()\n",
    "            \n",
    "            ip_set = set()\n",
    "            \n",
    "            for record in data:\n",
    "                if record['ip']:\n",
    "                    parsed_ip = record['ip'].split(',')\n",
    "                    for i in parsed_ip:\n",
    "                        ip_set.add(i.strip())\n",
    "                if record['forwarded']:\n",
    "                    parsed_ip = record['forwarded'].split(',')\n",
    "                    for i in parsed_ip:\n",
    "                        ip_set.add(i.strip())\n",
    "            print len(ip_set)\n",
    "    finally:\n",
    "        connection.close()\n",
    "        "
   ]
  },
  {
   "cell_type": "code",
   "execution_count": null,
   "metadata": {
    "collapsed": false
   },
   "outputs": [],
   "source": [
    "import urllib2\n",
    "import json\n",
    "try:\n",
    "    with connection.cursor() as cursor:\n",
    "        for i in ip_set:\n",
    "            data = urllib2.urlopen('http://freegeoip.net/json/'+i)\n",
    "            received_data = data.read()\n",
    "\n",
    "            if received_data:\n",
    "                data = json.loads(received_data)\n",
    "                country = data['country_code'] + ': ' + data['country_name']\n",
    "                region = (data['region_code'] + ': ' +data['region_name']).replace(\"'\",\"\")\n",
    "                city = data['city'].replace(\"'\",\"\")\n",
    "                latitude = data['latitude']\n",
    "                longitude = data['longitude']\n",
    "                zip_code = data['zip_code']\n",
    "            try:\n",
    "                insert_sql = \"INSERT INTO location(zip_code, country, region, city, latitude, longitude, IP) VALUES('\"+zip_code+\"', '\"+country+\"', '\"+region+\"', '\"+city+\"', '\"+str(latitude)+\"', '\"+str(longitude)+\"', '\"+i+\"')\"\n",
    "                cursor.execute(insert_sql)\n",
    "                connection.commit()\n",
    "            except Exception:\n",
    "                print i\n",
    "finally:\n",
    "    connection.close()                "
   ]
  }
 ],
 "metadata": {
  "kernelspec": {
   "display_name": "Python 2",
   "language": "python",
   "name": "python2"
  },
  "language_info": {
   "codemirror_mode": {
    "name": "ipython",
    "version": 2
   },
   "file_extension": ".py",
   "mimetype": "text/x-python",
   "name": "python",
   "nbconvert_exporter": "python",
   "pygments_lexer": "ipython2",
   "version": "2.7.12"
  }
 },
 "nbformat": 4,
 "nbformat_minor": 1
}
